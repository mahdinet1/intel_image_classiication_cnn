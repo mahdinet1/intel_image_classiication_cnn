{
  "nbformat": 4,
  "nbformat_minor": 0,
  "metadata": {
    "colab": {
      "name": "Untitled1.ipynb",
      "provenance": [],
      "collapsed_sections": [],
      "authorship_tag": "ABX9TyNFXV2At+S3g6l56s6GigFN",
      "include_colab_link": true
    },
    "kernelspec": {
      "name": "python3",
      "display_name": "Python 3"
    },
    "language_info": {
      "name": "python"
    },
    "accelerator": "GPU"
  },
  "cells": [
    {
      "cell_type": "markdown",
      "metadata": {
        "id": "view-in-github",
        "colab_type": "text"
      },
      "source": [
        "<a href=\"https://colab.research.google.com/github/mahdinet1/intel_image_classiication_cnn/blob/main/intel_image_classification_simpleCNN.ipynb\" target=\"_parent\"><img src=\"https://colab.research.google.com/assets/colab-badge.svg\" alt=\"Open In Colab\"/></a>"
      ]
    },
    {
      "cell_type": "code",
      "execution_count": 1,
      "metadata": {
        "colab": {
          "base_uri": "https://localhost:8080/"
        },
        "id": "MK8sO3JliS7q",
        "outputId": "15cce2d8-270e-4b64-c92b-9e6308a4b97c"
      },
      "outputs": [
        {
          "output_type": "stream",
          "name": "stdout",
          "text": [
            "Requirement already satisfied: kaggle in /usr/local/lib/python3.7/dist-packages (1.5.12)\n",
            "Requirement already satisfied: python-dateutil in /usr/local/lib/python3.7/dist-packages (from kaggle) (2.8.2)\n",
            "Requirement already satisfied: tqdm in /usr/local/lib/python3.7/dist-packages (from kaggle) (4.62.3)\n",
            "Requirement already satisfied: requests in /usr/local/lib/python3.7/dist-packages (from kaggle) (2.23.0)\n",
            "Requirement already satisfied: six>=1.10 in /usr/local/lib/python3.7/dist-packages (from kaggle) (1.15.0)\n",
            "Requirement already satisfied: urllib3 in /usr/local/lib/python3.7/dist-packages (from kaggle) (1.24.3)\n",
            "Requirement already satisfied: certifi in /usr/local/lib/python3.7/dist-packages (from kaggle) (2021.10.8)\n",
            "Requirement already satisfied: python-slugify in /usr/local/lib/python3.7/dist-packages (from kaggle) (6.0.1)\n",
            "Requirement already satisfied: text-unidecode>=1.3 in /usr/local/lib/python3.7/dist-packages (from python-slugify->kaggle) (1.3)\n",
            "Requirement already satisfied: chardet<4,>=3.0.2 in /usr/local/lib/python3.7/dist-packages (from requests->kaggle) (3.0.4)\n",
            "Requirement already satisfied: idna<3,>=2.5 in /usr/local/lib/python3.7/dist-packages (from requests->kaggle) (2.10)\n"
          ]
        }
      ],
      "source": [
        "! pip install kaggle\n"
      ]
    },
    {
      "cell_type": "code",
      "source": [
        "! mkdir ~/.kaggle"
      ],
      "metadata": {
        "id": "yx5vD2giigjI"
      },
      "execution_count": 2,
      "outputs": []
    },
    {
      "cell_type": "code",
      "source": [
        "! cp kaggle.json ~/.kaggle/"
      ],
      "metadata": {
        "id": "Yiu4D26hinzf"
      },
      "execution_count": 13,
      "outputs": []
    },
    {
      "cell_type": "code",
      "source": [
        "! chmod 600 ~/.kaggle/kaggle.json\n"
      ],
      "metadata": {
        "id": "ANC2MJXbirk3"
      },
      "execution_count": 14,
      "outputs": []
    },
    {
      "cell_type": "code",
      "source": [
        "! kaggle datasets download -d puneet6060/intel-image-classification"
      ],
      "metadata": {
        "colab": {
          "base_uri": "https://localhost:8080/"
        },
        "id": "_INcKLPii_U-",
        "outputId": "eb42a7de-9659-43cf-b0a2-4f078679b103"
      },
      "execution_count": 15,
      "outputs": [
        {
          "output_type": "stream",
          "name": "stdout",
          "text": [
            "Downloading intel-image-classification.zip to /content\n",
            " 98% 339M/346M [00:06<00:00, 57.4MB/s]\n",
            "100% 346M/346M [00:06<00:00, 57.4MB/s]\n"
          ]
        }
      ]
    },
    {
      "cell_type": "code",
      "source": [
        "!unzip \\*.zip"
      ],
      "metadata": {
        "colab": {
          "base_uri": "https://localhost:8080/"
        },
        "id": "SJ5GtvxqlEFP",
        "outputId": "83632c9b-cb88-4321-dc8a-23d2ac537494"
      },
      "execution_count": 16,
      "outputs": [
        {
          "output_type": "stream",
          "name": "stdout",
          "text": [
            "\u001b[1;30;43mStreaming output truncated to the last 5000 lines.\u001b[0m\n",
          
          ]
        }
      ]
    },
    {
      "cell_type": "code",
      "source": [
        "training_path = 'seg_train/seg_train'\n",
        "test_path = 'seg_test/seg_test'\n"
      ],
      "metadata": {
        "id": "01qn29uAlY-7"
      },
      "execution_count": 17,
      "outputs": []
    },
    {
      "cell_type": "code",
      "source": [
        "import pandas as pd, numpy as np, matplotlib.pyplot as plt, glob, tensorflow as tf, keras, cv2, os"
      ],
      "metadata": {
        "id": "SLQS-iBOlzim"
      },
      "execution_count": 18,
      "outputs": []
    },
    {
      "cell_type": "code",
      "source": [
        "from tensorflow.keras.utils import image_dataset_from_directory\n",
        "from tensorflow.keras import layers as tfl, optimizers"
      ],
      "metadata": {
        "id": "1FBBxr3Rl8gw"
      },
      "execution_count": 19,
      "outputs": []
    },
    {
      "cell_type": "code",
      "source": [
        "training_dataset = image_dataset_from_directory(\n",
        "    training_path,\n",
        "    image_size=(150,150),\n",
        "    label_mode=\"categorical\",\n",
        "    shuffle=True,\n",
        "    validation_split=0.2,\n",
        "     subset='training',\n",
        "     seed=42\n",
        ")"
      ],
      "metadata": {
        "colab": {
          "base_uri": "https://localhost:8080/"
        },
        "id": "ciBS5yaNmIVs",
        "outputId": "6a67d226-ca55-4e6e-9e31-eaa50fa554c7"
      },
      "execution_count": 20,
      "outputs": [
        {
          "output_type": "stream",
          "name": "stdout",
          "text": [
            "Found 14034 files belonging to 6 classes.\n",
            "Using 11228 files for training.\n"
          ]
        }
      ]
    },
    {
      "cell_type": "code",
      "source": [
        "validation_dataset = image_dataset_from_directory(training_path,\n",
        "                                               \n",
        "                                                image_size=(150,150),\n",
        "                                                label_mode='categorical',\n",
        "                                                shuffle=True,\n",
        "                                                seed=42,\n",
        "                                                subset='validation',\n",
        "                                                validation_split=0.2)\n",
        "\n",
        "test_dataset = image_dataset_from_directory(test_path,\n",
        "                                          \n",
        "                                            image_size=(150,150),\n",
        "                                            label_mode='categorical',\n",
        "                                            shuffle=True)"
      ],
      "metadata": {
        "id": "k-QZya9lqBNB"
      },
      "execution_count": null,
      "outputs": []
    },
    {
      "cell_type": "code",
      "source": [
        "training_dataset.class_names"
      ],
      "metadata": {
        "colab": {
          "base_uri": "https://localhost:8080/"
        },
        "id": "qpaj5SM8qS14",
        "outputId": "3b3dd659-7995-4ae5-b3f4-68859fdb3ae4"
      },
      "execution_count": 22,
      "outputs": [
        {
          "output_type": "execute_result",
          "data": {
            "text/plain": [
              "['buildings', 'forest', 'glacier', 'mountain', 'sea', 'street']"
            ]
          },
          "metadata": {},
          "execution_count": 22
        }
      ]
    },
    {
      "cell_type": "code",
      "source": [
        "model = keras.Sequential()\n",
        "\n",
        "model.add(tfl.Conv2D(100,kernel_size=3,input_shape=(150,150,3),activation='relu'))\n",
        "model.add(tfl.MaxPooling2D(2,2))\n",
        "model.add(tfl.Conv2D(64,kernel_size=5,input_shape=(150,150,3),activation='relu',padding=\"same\"))\n",
        "model.add(tfl.MaxPooling2D(2,2))\n",
        "model.add(tfl.Conv2D(64,kernel_size=3,input_shape=(150,150,3),activation='relu',padding=\"same\"))\n",
        "model.add(tfl.MaxPooling2D(2,2))\n",
        "model.add(tfl.Conv2D(64,kernel_size=7,input_shape=(150,150,3),activation='relu',padding=\"same\"))\n",
        "model.add(tfl.MaxPooling2D(2,2))\n",
        "model.add(tfl.Conv2D(64,kernel_size=3,input_shape=(150,150,3),activation='relu',padding=\"same\"))\n",
        "\n",
        "model.add(tfl.Dropout(0.3))\n",
        "model.add(tfl.Flatten())\n",
        "model.add(tfl.Dense(6, activation ='softmax'))\n"
      ],
      "metadata": {
        "id": "hYokpstGre_m"
      },
      "execution_count": 36,
      "outputs": []
    },
    {
      "cell_type": "code",
      "source": [
        "model.summary()"
      ],
      "metadata": {
        "colab": {
          "base_uri": "https://localhost:8080/"
        },
        "id": "iG0eXS3yxnj9",
        "outputId": "3c8f75f6-ee9e-4f3f-e529-0aea0beff1a8"
      },
      "execution_count": 37,
      "outputs": [
        {
          "output_type": "stream",
          "name": "stdout",
          "text": [
            "Model: \"sequential_3\"\n",
            "_________________________________________________________________\n",
            " Layer (type)                Output Shape              Param #   \n",
            "=================================================================\n",
            " conv2d_11 (Conv2D)          (None, 148, 148, 100)     2800      \n",
            "                                                                 \n",
            " max_pooling2d_11 (MaxPoolin  (None, 74, 74, 100)      0         \n",
            " g2D)                                                            \n",
            "                                                                 \n",
            " conv2d_12 (Conv2D)          (None, 74, 74, 64)        160064    \n",
            "                                                                 \n",
            " max_pooling2d_12 (MaxPoolin  (None, 37, 37, 64)       0         \n",
            " g2D)                                                            \n",
            "                                                                 \n",
            " conv2d_13 (Conv2D)          (None, 37, 37, 64)        36928     \n",
            "                                                                 \n",
            " max_pooling2d_13 (MaxPoolin  (None, 18, 18, 64)       0         \n",
            " g2D)                                                            \n",
            "                                                                 \n",
            " conv2d_14 (Conv2D)          (None, 18, 18, 64)        200768    \n",
            "                                                                 \n",
            " max_pooling2d_14 (MaxPoolin  (None, 9, 9, 64)         0         \n",
            " g2D)                                                            \n",
            "                                                                 \n",
            " conv2d_15 (Conv2D)          (None, 9, 9, 64)          36928     \n",
            "                                                                 \n",
            " dropout_3 (Dropout)         (None, 9, 9, 64)          0         \n",
            "                                                                 \n",
            " flatten_3 (Flatten)         (None, 5184)              0         \n",
            "                                                                 \n",
            " dense_3 (Dense)             (None, 6)                 31110     \n",
            "                                                                 \n",
            "=================================================================\n",
            "Total params: 468,598\n",
            "Trainable params: 468,598\n",
            "Non-trainable params: 0\n",
            "_________________________________________________________________\n"
          ]
        }
      ]
    },
    {
      "cell_type": "code",
      "source": [
        "model.compile(optimizer='adam',loss='categorical_crossentropy',metrics=['accuracy'])"
      ],
      "metadata": {
        "id": "vOvks-_DvUkM"
      },
      "execution_count": 38,
      "outputs": []
    },
    {
      "cell_type": "code",
      "source": [
        "model.fit(\n",
        "    training_dataset,\n",
        "    epochs=35,\n",
        "    validation_data=validation_dataset,\n",
        "    batch_size=32,\n",
        ")"
      ],
      "metadata": {
        "colab": {
          "base_uri": "https://localhost:8080/"
        },
        "id": "AcwoEFl8vrZO",
        "outputId": "db41576a-dcf9-470f-f2a6-2e9c95d6c971"
      },
      "execution_count": 39,
      "outputs": [
        {
          "output_type": "stream",
          "name": "stdout",
          "text": [
            "Epoch 1/35\n",
            "351/351 [==============================] - 45s 121ms/step - loss: 1.5840 - accuracy: 0.5229 - val_loss: 1.0685 - val_accuracy: 0.5827\n",
            "Epoch 2/35\n",
            "351/351 [==============================] - 41s 116ms/step - loss: 0.8628 - accuracy: 0.6625 - val_loss: 0.7787 - val_accuracy: 0.7067\n",
            "Epoch 3/35\n",
            "351/351 [==============================] - 41s 115ms/step - loss: 0.7279 - accuracy: 0.7282 - val_loss: 0.7301 - val_accuracy: 0.7366\n",
            "Epoch 4/35\n",
            "351/351 [==============================] - 41s 116ms/step - loss: 0.6563 - accuracy: 0.7624 - val_loss: 0.6048 - val_accuracy: 0.7790\n",
            "Epoch 5/35\n",
            "351/351 [==============================] - 41s 115ms/step - loss: 0.5890 - accuracy: 0.7889 - val_loss: 0.6093 - val_accuracy: 0.7954\n",
            "Epoch 6/35\n",
            "351/351 [==============================] - 41s 116ms/step - loss: 0.5378 - accuracy: 0.8067 - val_loss: 0.5926 - val_accuracy: 0.7915\n",
            "Epoch 7/35\n",
            "351/351 [==============================] - 41s 115ms/step - loss: 0.5076 - accuracy: 0.8172 - val_loss: 0.6018 - val_accuracy: 0.7901\n",
            "Epoch 8/35\n",
            "351/351 [==============================] - 41s 115ms/step - loss: 0.4663 - accuracy: 0.8345 - val_loss: 0.6706 - val_accuracy: 0.7965\n",
            "Epoch 9/35\n",
            "351/351 [==============================] - 41s 115ms/step - loss: 0.4425 - accuracy: 0.8423 - val_loss: 0.5912 - val_accuracy: 0.8015\n",
            "Epoch 10/35\n",
            "351/351 [==============================] - 41s 115ms/step - loss: 0.4116 - accuracy: 0.8507 - val_loss: 0.6479 - val_accuracy: 0.7947\n",
            "Epoch 11/35\n",
            "351/351 [==============================] - 40s 115ms/step - loss: 0.3938 - accuracy: 0.8583 - val_loss: 0.6402 - val_accuracy: 0.7890\n",
            "Epoch 12/35\n",
            "351/351 [==============================] - 41s 115ms/step - loss: 0.3712 - accuracy: 0.8672 - val_loss: 0.6474 - val_accuracy: 0.8015\n",
            "Epoch 13/35\n",
            "351/351 [==============================] - 40s 115ms/step - loss: 0.3734 - accuracy: 0.8669 - val_loss: 0.7215 - val_accuracy: 0.7887\n",
            "Epoch 14/35\n",
            "351/351 [==============================] - 41s 115ms/step - loss: 0.3385 - accuracy: 0.8795 - val_loss: 0.7045 - val_accuracy: 0.7922\n",
            "Epoch 15/35\n",
            "351/351 [==============================] - 40s 114ms/step - loss: 0.3106 - accuracy: 0.8886 - val_loss: 0.6672 - val_accuracy: 0.8079\n",
            "Epoch 16/35\n",
            "351/351 [==============================] - 40s 115ms/step - loss: 0.3206 - accuracy: 0.8848 - val_loss: 0.7892 - val_accuracy: 0.7944\n",
            "Epoch 17/35\n",
            "351/351 [==============================] - 40s 115ms/step - loss: 0.3244 - accuracy: 0.8852 - val_loss: 0.6960 - val_accuracy: 0.7865\n",
            "Epoch 18/35\n",
            "351/351 [==============================] - 40s 115ms/step - loss: 0.2843 - accuracy: 0.8981 - val_loss: 1.0037 - val_accuracy: 0.7587\n",
            "Epoch 19/35\n",
            "351/351 [==============================] - 40s 115ms/step - loss: 0.2616 - accuracy: 0.9068 - val_loss: 0.8297 - val_accuracy: 0.7990\n",
            "Epoch 20/35\n",
            "351/351 [==============================] - 40s 115ms/step - loss: 0.2764 - accuracy: 0.9000 - val_loss: 0.9862 - val_accuracy: 0.7676\n",
            "Epoch 21/35\n",
            "351/351 [==============================] - 40s 115ms/step - loss: 0.2815 - accuracy: 0.9005 - val_loss: 0.7789 - val_accuracy: 0.7954\n",
            "Epoch 22/35\n",
            "351/351 [==============================] - 40s 115ms/step - loss: 0.2747 - accuracy: 0.9057 - val_loss: 0.8182 - val_accuracy: 0.7890\n",
            "Epoch 23/35\n",
            "351/351 [==============================] - 40s 115ms/step - loss: 0.2608 - accuracy: 0.9089 - val_loss: 0.7792 - val_accuracy: 0.7997\n",
            "Epoch 24/35\n",
            "351/351 [==============================] - 40s 115ms/step - loss: 0.2595 - accuracy: 0.9123 - val_loss: 0.9193 - val_accuracy: 0.7944\n",
            "Epoch 25/35\n",
            "351/351 [==============================] - 40s 114ms/step - loss: 0.2545 - accuracy: 0.9129 - val_loss: 0.9887 - val_accuracy: 0.7163\n",
            "Epoch 26/35\n",
            "351/351 [==============================] - 41s 116ms/step - loss: 0.2377 - accuracy: 0.9184 - val_loss: 0.9836 - val_accuracy: 0.7951\n",
            "Epoch 27/35\n",
            "351/351 [==============================] - 40s 115ms/step - loss: 0.2968 - accuracy: 0.9011 - val_loss: 0.9633 - val_accuracy: 0.7969\n",
            "Epoch 28/35\n",
            "351/351 [==============================] - 41s 115ms/step - loss: 0.2395 - accuracy: 0.9200 - val_loss: 0.9849 - val_accuracy: 0.7812\n",
            "Epoch 29/35\n",
            "351/351 [==============================] - 40s 115ms/step - loss: 0.2454 - accuracy: 0.9203 - val_loss: 1.0255 - val_accuracy: 0.7691\n",
            "Epoch 30/35\n",
            "351/351 [==============================] - 41s 115ms/step - loss: 0.2510 - accuracy: 0.9157 - val_loss: 0.9729 - val_accuracy: 0.7933\n",
            "Epoch 31/35\n",
            "351/351 [==============================] - 40s 115ms/step - loss: 0.2162 - accuracy: 0.9287 - val_loss: 1.1510 - val_accuracy: 0.7847\n",
            "Epoch 32/35\n",
            "351/351 [==============================] - 41s 115ms/step - loss: 0.2597 - accuracy: 0.9170 - val_loss: 1.2761 - val_accuracy: 0.7890\n",
            "Epoch 33/35\n",
            "351/351 [==============================] - 41s 115ms/step - loss: 0.2208 - accuracy: 0.9285 - val_loss: 1.0930 - val_accuracy: 0.7965\n",
            "Epoch 34/35\n",
            "351/351 [==============================] - 41s 115ms/step - loss: 0.2417 - accuracy: 0.9196 - val_loss: 1.3279 - val_accuracy: 0.7769\n",
            "Epoch 35/35\n",
            "351/351 [==============================] - 41s 115ms/step - loss: 0.2536 - accuracy: 0.9186 - val_loss: 1.2022 - val_accuracy: 0.7869\n"
          ]
        },
        {
          "output_type": "execute_result",
          "data": {
            "text/plain": [
              "<keras.callbacks.History at 0x7f39a3bdffd0>"
            ]
          },
          "metadata": {},
          "execution_count": 39
        }
      ]
    },
    {
      "cell_type": "code",
      "source": [
        "predict = model.predict(test_dataset)\n"
      ],
      "metadata": {
        "id": "JQQFlc5l-vVD"
      },
      "execution_count": 40,
      "outputs": []
    },
    {
      "cell_type": "code",
      "source": [
        "score, acc = model.evaluate(test_dataset,\n",
        "                            batch_size=32)\n",
        "print('Test score:', score)\n",
        "print('Test accuracy:', acc)"
      ],
      "metadata": {
        "colab": {
          "base_uri": "https://localhost:8080/"
        },
        "id": "uPoqx2mB_B1w",
        "outputId": "ca48614e-1684-4394-85cf-b8a1ea3ea2ab"
      },
      "execution_count": 42,
      "outputs": [
        {
          "output_type": "stream",
          "name": "stdout",
          "text": [
            "94/94 [==============================] - 4s 44ms/step - loss: 1.1398 - accuracy: 0.7913\n",
            "Test score: 1.1398091316223145\n",
            "Test accuracy: 0.7913333177566528\n"
          ]
        }
      ]
    }
  ]
}
